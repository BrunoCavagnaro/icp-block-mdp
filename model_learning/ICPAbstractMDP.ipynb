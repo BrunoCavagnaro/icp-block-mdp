{
  "cells": [
    {
      "cell_type": "code",
      "metadata": {
        "id": "5lza170PwoLQ",
        "colab_type": "code",
        "colab": {}
      },
      "source": [
        "# Copyright (c) Facebook, Inc. and its affiliates.\n",
        "import torch \n",
        "import torch.nn as nn\n",
        "import numpy as np\n",
        "import matplotlib.pyplot as plt"
      ],
      "execution_count": 0,
      "outputs": []
    },
    {
      "cell_type": "markdown",
      "metadata": {
        "id": "DQ8ffYeQ0cKW",
        "colab_type": "text"
      },
      "source": [
        "# Env"
      ]
    },
    {
      "cell_type": "code",
      "metadata": {
        "id": "2tI091PiwvMC",
        "colab_type": "code",
        "colab": {}
      },
      "source": [
        "class BasicEnv():\n",
        "\n",
        "  # A simple MDP: X = R^{noise_dims + true_dims}\n",
        "  def __init__(self, true_dims, noise_dims, noise_mean=None):\n",
        "    self.true_dims = true_dims\n",
        "    self.noise_dims = noise_dims\n",
        "    self.dim = true_dims + noise_dims\n",
        "    if noise_mean is None:\n",
        "      self.r_vec = 0.5 * np.concatenate([np.ones(self.true_dims), np.zeros(self.noise_dims)])\n",
        "    else:\n",
        "      self.r_vec = 0.5 * np.concatenate([np.ones(self.true_dims), np.ones(self.noise_dims) * noise_mean])\n",
        "\n",
        "  def reset(self):\n",
        "    self.state = np.random.normal(np.zeros(self.dim ))\n",
        "  \n",
        "  def step(self, action):\n",
        "    # Note that for experiments, we set r_vec[noise_dims] = 0\n",
        "    reward = np.dot(self.r_vec, self.state)\n",
        "    # In this MDP, we allow for noise_dims at time t to depend on time t-1\n",
        "    self.state = self.state + action * np.ones(self.dim) + np.random.normal(np.zeros(self.dim), scale=0.01)\n",
        "    \n",
        "    return self.state, reward\n"
      ],
      "execution_count": 0,
      "outputs": []
    },
    {
      "cell_type": "markdown",
      "metadata": {
        "id": "5iNovzjH0XJp",
        "colab_type": "text"
      },
      "source": [
        "# Models"
      ]
    },
    {
      "cell_type": "code",
      "metadata": {
        "id": "zJLsSvUE0Tmu",
        "colab_type": "code",
        "colab": {}
      },
      "source": [
        "class MLP(nn.Module):\n",
        "    def __init__(self, in_dim, out_dim):\n",
        "        super(MLP, self).__init__()\n",
        "\n",
        "        #parameters \n",
        "\n",
        "        self.layer1 = nn.Sequential(\n",
        "            nn.Linear(in_dim, 256),\n",
        "            nn.ReLU())\n",
        "        self.fc = nn.Linear(256, out_dim)\n",
        "\n",
        "    def forward(self, x):\n",
        "        dim = x.shape[0]\n",
        "        x = x.reshape([dim, -1])\n",
        "        out = self.layer1(x)\n",
        "        out = out.view(out.size(0), -1)\n",
        "        out = self.fc(out)\n",
        "        return out \n",
        "\n",
        "class LinearNet(nn.Module):\n",
        "    def __init__(self, in_dim, out_dim):\n",
        "        super(LinearNet, self).__init__()\n",
        "\n",
        "        #parameters \n",
        "        self.fc = nn.Linear(in_dim, out_dim)\n",
        "\n",
        "    def forward(self, x):\n",
        "        out = self.fc(x)\n",
        "        return out "
      ],
      "execution_count": 0,
      "outputs": []
    },
    {
      "cell_type": "markdown",
      "metadata": {
        "id": "5lfVZKcg0VUG",
        "colab_type": "text"
      },
      "source": [
        "# Agent"
      ]
    },
    {
      "cell_type": "code",
      "metadata": {
        "id": "5gy7K4e1xcET",
        "colab_type": "code",
        "colab": {}
      },
      "source": [
        "class Learner():\n",
        "  # An agent which learns a model of the MDP\n",
        "  def __init__(self, state_dim, latent_dim=None):\n",
        "    self.state_dim = state_dim\n",
        "    if latent_dim is None:\n",
        "      self.latent_dim = state_dim\n",
        "    else:\n",
        "      self.latent_dim = latent_dim\n",
        "    self.phi = LinearNet(self.state_dim, self.latent_dim)\n",
        "    self.reward_model = LinearNet(self.latent_dim + 1, 1)\n",
        "    self.transition_model = MLP(self.latent_dim + 1, self.latent_dim)\n",
        "    self.reward_opt = torch.optim.SGD(self.reward_model.parameters(), lr=0.001)\n",
        "    self.transition_opt = torch.optim.SGD(self.transition_model.parameters(), lr=0.001)\n",
        "    self.phi_opt = torch.optim.SGD(self.phi.parameters(), lr=0.001)\n",
        "\n",
        "  def predict_next_embedding(self, state, action):\n",
        "    combined_s = torch.cat([self.phi(state), action]).reshape([1, self.latent_dim+1])\n",
        "    return self.transition_model(combined_s)\n",
        "  \n",
        "  def predict_reward(self, state, action):\n",
        "\n",
        "    inputs = torch.cat([self.phi(state), action])\n",
        "\n",
        "    inputs = inputs.reshape([1, self.latent_dim + 1])\n",
        "\n",
        "    r_pred = self.reward_model(inputs)\n",
        "\n",
        "    return r_pred\n",
        "\n",
        "  def train_step(self, s, action, reward, s_next):\n",
        "    pred_r = self.predict_reward(s_next, action)\n",
        "\n",
        "    reward_loss = torch.nn.MSELoss()(pred_r, torch.Tensor([reward]))\n",
        "    step_loss = torch.nn.MSELoss()(self.predict_next_embedding(s, action),\n",
        "                                   self.phi(torch.Tensor(s_next)))\n",
        "    self.transition_model.zero_grad()\n",
        "    self.reward_model.zero_grad()\n",
        "    self.phi.zero_grad()\n",
        "    reward_loss.backward()\n",
        "    step_loss.backward()\n",
        "    self.reward_opt.step()\n",
        "    self.transition_opt.step()\n",
        "    self.phi_opt.step()\n",
        "    return reward_loss, step_loss\n",
        "\n"
      ],
      "execution_count": 0,
      "outputs": []
    },
    {
      "cell_type": "code",
      "metadata": {
        "id": "f9XocVLZJByq",
        "colab_type": "code",
        "colab": {}
      },
      "source": [
        "n_true = 3\n",
        "n_noise = 6\n",
        "\n",
        "env = BasicEnv(n_true, n_noise)\n",
        "learner = Learner(n_true + n_noise, n_true)\n",
        "r_losses = []\n",
        "s_losses = []"
      ],
      "execution_count": 0,
      "outputs": []
    },
    {
      "cell_type": "code",
      "metadata": {
        "id": "x6lU1V6dGtGI",
        "colab_type": "code",
        "colab": {}
      },
      "source": [
        "\n"
      ],
      "execution_count": 0,
      "outputs": []
    },
    {
      "cell_type": "code",
      "metadata": {
        "id": "MhHjlgaXy0Xd",
        "colab_type": "code",
        "colab": {}
      },
      "source": [
        "def train_on_envs(learner, envs, episode_length=10, num_episodes=100):\n",
        "  # Reset all environments to init\n",
        "  for env in envs:\n",
        "    env.reset()\n",
        "  \n",
        "  r_losses = [[] for _ in envs]\n",
        "  s_losses = [[] for _ in envs]\n",
        "  curr_episode = 0\n",
        "  while(curr_episode < num_episodes):\n",
        "    for env in envs:\n",
        "      env.reset()\n",
        "    for step in range(10):\n",
        "      for i, env in enumerate(envs):\n",
        "        # We perform policy evaluation on the uniform random policy.\n",
        "        a = np.random.choice([-1,1])\n",
        "        s = torch.Tensor(env.state)\n",
        "        s_next, r = env.step(a)\n",
        "        rl, sl = learner.train_step(s, torch.Tensor([a]), r, torch.Tensor(s_next))\n",
        "\n",
        "        # Logging\n",
        "        r_losses[i].append(rl)\n",
        "        s_losses[i].append(sl)\n",
        "    curr_episode +=1\n",
        "  return r_losses, s_losses\n",
        "\n",
        "  \n",
        "  "
      ],
      "execution_count": 0,
      "outputs": []
    },
    {
      "cell_type": "markdown",
      "metadata": {
        "id": "E7td1Y4OGCA5",
        "colab_type": "text"
      },
      "source": [
        "# ICP\n"
      ]
    },
    {
      "cell_type": "code",
      "metadata": {
        "id": "bB9EdsrD-iqX",
        "colab_type": "code",
        "colab": {}
      },
      "source": [
        "# ICP Algorithm: based off https://github.com/jan-glx/ICPy/\n",
        "\n",
        "import itertools as it\n",
        "from collections import namedtuple\n",
        "\n",
        "import numpy as np\n",
        "import scipy.stats\n",
        "import sklearn.linear_model\n",
        "\n",
        "\n",
        "def all_parent_sets(S, max_num_parents):\n",
        "    return it.chain.from_iterable(\n",
        "        it.combinations(S, n_parents) for n_parents in range(min(len(S), max_num_parents) + 1))\n",
        "\n",
        "\n",
        "def f_test(x1, x2):\n",
        "    \"\"\"\n",
        "    Perform F-test for equal variance.\n",
        "    \"\"\"\n",
        "    F = np.var(x1, ddof=1) / np.var(x2, ddof=1)\n",
        "    return 2 * min(scipy.stats.f.cdf(F, len(x1) - 1, len(x2) - 1), scipy.stats.f.sf(F, len(x1) - 1, len(x2) - 1))\n",
        "\n",
        "\n",
        "def test_plausible_parent_set(X, y, z):\n",
        "    n_e = np.max(z) + 1\n",
        "    lm = sklearn.linear_model.LinearRegression(fit_intercept=False)\n",
        "    X_with_intercept = np.hstack((X, np.ones((X.shape[0], 1))))\n",
        "    lm.fit(X_with_intercept, y)\n",
        "    residuals = lm.predict(X_with_intercept) - y \n",
        "    #print(lm.coef_, 'coefficient')\n",
        "    #print(' residuals variance: ', np.var(residuals))\n",
        "    var_p = 1\n",
        "    mean_p = 1\n",
        "    for e in range(n_e):\n",
        "      #print('means: ', np.mean(residuals[np.equal(z, e)]), np.mean(residuals[np.logical_not(np.equal(z,e))]))\n",
        "      a = scipy.stats.ttest_ind(residuals[np.equal(z, e)],\n",
        "                                                residuals[np.logical_not(np.equal(z, e))],\n",
        "                                                equal_var=False).pvalue\n",
        "      mean_p = min(mean_p, a)\n",
        "      b = f_test(residuals[np.equal(z, e)],\n",
        "                                residuals[np.logical_not(np.equal(z, e))])\n",
        "      var_p = min(var_p, b)\n",
        "\n",
        "    # print(var_p, mean_p, 'p vals')\n",
        "    return max(mean_p, var_p) * n_e\n",
        "\n",
        "\n",
        "\n",
        "def preselect_parents(X, y, n):\n",
        "    _, selected, _ = sklearn.linear_model.lars_path(X, y, method='lasso', max_iter=n, return_path=False)\n",
        "    return selected\n",
        "\n",
        "\n",
        "ICP = namedtuple(\"ICP\", [\"S_hat\", \"q_values\", \"p_value\"])\n",
        "\n",
        "\n",
        "def invariant_causal_prediction(X, y, z, alpha=0.1):\n",
        "    \"\"\"\n",
        "    Perform Invariant Causal Prediction.\n",
        "    Thanks to @jan-glx (https://github.com/jan-glx/ICPy/blob/master/icpy/ICP.py)\n",
        "    Parameters\n",
        "    ----------\n",
        "    X : (n, p) ndarray\n",
        "        predictor variables\n",
        "    y : (n,) ndarray\n",
        "        target variable, numpy array of shape `(n)`\n",
        "    Z : array_like\n",
        "        index of environment, length(Z)==`n`\n",
        "    alpha : float\n",
        "        Confidence level of the tests and FDR to control. P(\\hat{S} \\subset S^*) \\gte 1-`alpha`\n",
        "    Returns\n",
        "    -------\n",
        "    list\n",
        "        The identified causal parent set, \\hat{S}, as list of indices\n",
        "    \"\"\"\n",
        "\n",
        "    n = X.shape[0]\n",
        "    p = X.shape[1]\n",
        "\n",
        "    max_num_parents = 8\n",
        "\n",
        "    S_0 = list(range(p))\n",
        "    q_values = np.zeros(p)\n",
        "    p_value_model = 0\n",
        "    includes = np.zeros(len(list(all_parent_sets(S_0, max_num_parents))))\n",
        "    i = 0\n",
        "    for S in all_parent_sets(S_0, max_num_parents):\n",
        "        # print('set: ', S)\n",
        "        not_S = np.ones(p, np.bool)\n",
        "        not_S[list(S)] = False\n",
        "        p_value = test_plausible_parent_set(X[:, S], y, z)\n",
        "        q_values[not_S] = np.maximum(q_values[not_S], p_value)\n",
        "        p_value_model = max(p_value_model, p_value)\n",
        "        includes[i] = 1 if p_value > alpha else 0\n",
        "        # print(includes)\n",
        "        i += 1\n",
        "\n",
        "    q_values = np.minimum(q_values, 1)\n",
        "    # print('q values', q_values, np.where(q_values <= alpha))\n",
        "    S_hat = np.where(q_values <= alpha)[0]\n",
        "\n",
        "    return ICP(S_hat, q_values, p_value_model)"
      ],
      "execution_count": 0,
      "outputs": []
    },
    {
      "cell_type": "code",
      "metadata": {
        "id": "HeB8W3mj3STx",
        "colab_type": "code",
        "colab": {}
      },
      "source": [
        "# ICP for RL algorithm\n",
        "\n",
        "# Find causal parents of reward T\n",
        "\n",
        "# queue S <- T\n",
        "# set AN = []\n",
        "# while S not empty:\n",
        "# t <- s.dequeue()\n",
        "# if t in AN:\n",
        "#   continue \n",
        "# AN.append(t)\n",
        "# P <- causal parents(t)\n",
        "# S.enqueue(P)\n",
        "# return AN\n",
        "\n",
        "def causal_states(buffer, alpha=0.1):\n",
        "  # transition_buffer := [ [(s, a, r, s'), e] ]\n",
        "  causal_vars = []\n",
        "  \n",
        "  states = np.array([b[0][0] for b in buffer])\n",
        "  rewards = np.array([b[0][2] for b in buffer])\n",
        "  envs = np.array([b[1] for b in buffer])\n",
        "  envs = envs.astype(np.int32)\n",
        "  dims = states.shape[1]\n",
        "  r_parents = list(invariant_causal_prediction(states, rewards, envs, alpha/dims)[0])\n",
        "  #print(r_parents)\n",
        "  q = r_parents.copy()\n",
        "  an = []\n",
        "  while (not len(q) == 0):\n",
        "    n = q[0]\n",
        "    q = q[1:]\n",
        "    if n in an:\n",
        "      continue\n",
        "    else:\n",
        "      an.append(n)\n",
        "      # print(n)\n",
        "      nexts = np.array([b[0][3][n] for b in buffer])\n",
        "      parents = invariant_causal_prediction(states, nexts, envs)[0]\n",
        "      for p in parents:\n",
        "        q.append(p)\n",
        "  return an \n",
        "\n",
        "\n",
        "\n",
        "\n"
      ],
      "execution_count": 0,
      "outputs": []
    },
    {
      "cell_type": "markdown",
      "metadata": {
        "id": "ljDpVc7__JHO",
        "colab_type": "text"
      },
      "source": [
        "# Policy Evaluation Code"
      ]
    },
    {
      "cell_type": "code",
      "metadata": {
        "id": "BIf6zDcv7Opt",
        "colab_type": "code",
        "colab": {}
      },
      "source": [
        "def generate_replay_buffer(n_samples):\n",
        "  dim = 3\n",
        "  b = []\n",
        "  for i in range(n_samples):\n",
        "    s = np.random.rand(dim) * 10.0\n",
        "    s[0] = 1.0\n",
        "    r = s[1] # + np.random.rand() - 0.5\n",
        "    s_next = [s[0], s[0] + np.random.rand() - 0.5, s[2] + np.random.rand() - 0.5]\n",
        "    b.append( [[s, 0, r, s_next], 0])\n",
        "\n",
        "  for i in range(n_samples):\n",
        "    s = np.random.rand(dim)\n",
        "    r = s[1] + np.random.rand() - 0.5\n",
        "    s_next = [s[0] + np.random.rand()-0.5, s[0], s[2] + np.random.rand() - 0.5]\n",
        "    b.append( [[s, 0, r, s_next], 1])\n",
        "\n",
        "  for i in range(n_samples):\n",
        "    s = np.random.rand(dim)\n",
        "    s[2] = 20\n",
        "    r = s[1] + np.random.rand() - 0.5\n",
        "    s_next = [s[0] + np.random.rand()-0.5, s[0] + np.random.rand() - 0.5 , s[2]]\n",
        "    b.append( [[s, 0, r, s_next], 2])\n",
        "  \n",
        "\n",
        "  return b \n",
        "\n",
        "def adversarial_replay_buffer(num_samples, x3=-1): \n",
        "  for i in range(num_samples):\n",
        "    dim = 3\n",
        "    b = []\n",
        "    s = np.random.rand(dim)\n",
        "    r = s[1] + np.random.rand() - 0.5 \n",
        "    s[2] = x3\n",
        "    s_next = [s[0] + np.random.rand()-0.5, s[0] + np.random.rand() - 0.5 , s[2]]\n",
        "    b.append( [[s, 0, r, s_next], 2])\n",
        "  return b"
      ],
      "execution_count": 0,
      "outputs": []
    },
    {
      "cell_type": "code",
      "metadata": {
        "id": "MPSK4v5-8Gy-",
        "colab_type": "code",
        "outputId": "87fd77ae-52b8-4b5c-90fc-fde269ec1b91",
        "colab": {
          "base_uri": "https://localhost:8080/",
          "height": 147
        }
      },
      "source": [
        "def train_linear_predictor(data, gamma=0.99):\n",
        "  \"\"\" Train a linear predictor on a given replay buffer\n",
        "  \"\"\"\n",
        "\n",
        "  n = len(data)\n",
        "  dim = len(data[0][0][0])\n",
        "  pred = np.ones(dim)\n",
        "  for e in range(100):\n",
        "    idx = np.random.choice(len(data), 1)[0]\n",
        "\n",
        "    s,a,r,snext = data[idx][0]\n",
        "    ypred = np.dot(pred, s)\n",
        "    target = gamma*np.dot(pred, snext) + r \n",
        "    grad = s * (target - ypred)\n",
        "    pred = pred + 0.01 * grad \n",
        "  return pred\n",
        "\n",
        "def get_bellman_error(data, w, gamma=0.99):\n",
        "  cum_err = 0\n",
        "  for d in data:\n",
        "    err = (np.dot(d[0][0], w) + d[0][2] + gamma * np.dot(d[0][3], w))**2\n",
        "    cum_err += err\n",
        "  \n",
        "  return cum_err/len(data)\n",
        "\n",
        "d = generate_replay_buffer(1000)\n",
        "d_orig = generate_replay_buffer(1000)\n",
        "\n",
        "\n",
        "# Obtain causal variable indices: note alpha set to be very low\n",
        "indices = causal_states(d, alpha=0.001)\n",
        "\n",
        "# with p > 0.999, causal states = [0,1].\n",
        "# However, there is a small chance that on a given run, might get [0,1,2]\n",
        "# Print to verify that we get [0,1]\n",
        "print('Causal states: ', indices)\n",
        "\n",
        "\n",
        "# Construct replay buffer consisting only of causal variables\n",
        "data = [np.array([s[0][0][i] for i in indices]) for s in  d]\n",
        "data2 = [[s[0][3][i] for i in indices] for s in d]\n",
        "for i, _ in enumerate(d):\n",
        "  d[i][0][0] = data[i]\n",
        "  d[i][0][3] = data2[i]\n",
        "\n",
        "# Train one predictor on the causal variables\n",
        "p = train_linear_predictor(d)\n",
        "\n",
        "# Train the other on all variables\n",
        "p_orig = train_linear_predictor(d_orig)\n",
        "\n",
        "p_errs = []\n",
        "orig_errs = []\n",
        "interventions = [0, 1, 10, 100, 200, 300, 400, 500]\n",
        "if len(indices) <= 2:\n",
        "  p = np.concatenate([p, [0]])\n",
        "for v in interventions:\n",
        "  adv = adversarial_replay_buffer(200, v)\n",
        "  \n",
        "  p_errs.append( get_bellman_error(adv, p))\n",
        "  orig_errs.append(get_bellman_error(adv, p_orig))"
      ],
      "execution_count": 73,
      "outputs": [
        {
          "output_type": "error",
          "ename": "SyntaxError",
          "evalue": "ignored",
          "traceback": [
            "\u001b[0;36m  File \u001b[0;32m\"<ipython-input-73-80cb75189ea5>\"\u001b[0;36m, line \u001b[0;32m60\u001b[0m\n\u001b[0;31m    orig_errs.append(get_bellman_error(adv, p_orig))\u001b[0m\n\u001b[0m                                                    \n^\u001b[0m\n\u001b[0;31mSyntaxError\u001b[0m\u001b[0;31m:\u001b[0m EOF while scanning triple-quoted string literal\n"
          ]
        }
      ]
    },
    {
      "cell_type": "code",
      "metadata": {
        "id": "sjc4ut3jSWYf",
        "colab_type": "code",
        "colab": {}
      },
      "source": [
        "# Repeat for confidence intervals\n",
        "cum_p= []\n",
        "cum_e = []\n",
        "\n",
        "for _ in range(20):\n",
        "  p_errs = []\n",
        "  orig_errs = []\n",
        "  interventions = [0.1 * i for i in range(25)]\n",
        "  for v in interventions:\n",
        "    adv = adversarial_replay_buffer(100, v)\n",
        "    p_errs.append( get_bellman_error(adv, p))\n",
        "    orig_errs.append(get_bellman_error(adv, p_orig) )\n",
        "  cum_p.append(p_errs)\n",
        "  cum_e.append(orig_errs)"
      ],
      "execution_count": 0,
      "outputs": []
    },
    {
      "cell_type": "code",
      "metadata": {
        "id": "o_Ug34QuktSF",
        "colab_type": "code",
        "colab": {}
      },
      "source": [
        "x = 0\n",
        "# Test how much the change in alpha affects significance of causal variable selection:\n",
        "# for what fraction of samples do we include the spurious var in our causal state?\n",
        "for _ in range(100):\n",
        "  b = generate_replay_buffer(1000)\n",
        "  causal_vars = causal_states(b)\n",
        "  if 2 in causal_vars:\n",
        "    x += 1\n",
        "print('Fraction of abstractions with spurious variable: %f'%(x/100))\n"
      ],
      "execution_count": 0,
      "outputs": []
    },
    {
      "cell_type": "code",
      "metadata": {
        "id": "N9pogTSqSrM4",
        "colab_type": "code",
        "outputId": "62850b86-4404-404a-e23b-d55b571f1532",
        "colab": {
          "base_uri": "https://localhost:8080/",
          "height": 312
        }
      },
      "source": [
        "# Generate plots\n",
        "import seaborn as sns\n",
        "import pandas as pd\n",
        "\n",
        "df = pd.DataFrame()\n",
        "df['errs'] = np.concatenate(cum_e)\n",
        "\n",
        "df['ts'] = np.concatenate([list(range(len(cum_e[0]))) for _ in range( len(cum_e))])\n",
        "df['ts'] = 0.1 * df['ts']\n",
        "sns.lineplot(x=\"ts\", y=\"errs\", data=df, ci=\"sd\", label=\"Least Squares Predictor\" )\n",
        "df['t_errs'] = np.concatenate(cum_p)\n",
        "sns.lineplot(x=\"ts\", y=\"t_errs\", data=df, ci=\"sd\", label=\"Invariant Predictor\")\n",
        "plt.title('Generalization of Linear Predictor')\n",
        "plt.xlabel('Spurious Variable Intevention Value')\n",
        "plt.ylabel('Bellman Error')\n",
        "plt.legend()\n"
      ],
      "execution_count": 70,
      "outputs": [
        {
          "output_type": "execute_result",
          "data": {
            "text/plain": [
              "<matplotlib.legend.Legend at 0x7f88b2556860>"
            ]
          },
          "metadata": {
            "tags": []
          },
          "execution_count": 70
        },
        {
          "output_type": "display_data",
          "data": {
            "image/png": "[encoded data removed]",
            "text/plain": [
              "<Figure size 432x288 with 1 Axes>"
            ]
          },
          "metadata": {
            "tags": []
          }
        }
      ]
    },
    {
      "cell_type": "code",
      "metadata": {
        "id": "UrlWRxpYT-YD",
        "colab_type": "code",
        "colab": {}
      },
      "source": [
        "np.var(cum_e, axis=0)"
      ],
      "execution_count": 0,
      "outputs": []
    }
  ],
  "metadata": {
    "colab": {
      "name": "ICPAbstractMDP.ipynb",
      "provenance": [],
      "collapsed_sections": [],
      "toc_visible": true
    },
    "kernelspec": {
      "name": "python3",
      "display_name": "Python 3"
    }
  },
  "nbformat": 4,
  "nbformat_minor": 0
}